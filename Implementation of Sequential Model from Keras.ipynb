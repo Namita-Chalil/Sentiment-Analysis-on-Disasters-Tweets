{
 "cells": [
  {
   "cell_type": "code",
   "execution_count": 16,
   "metadata": {},
   "outputs": [
    {
     "data": {
      "text/plain": [
       "'C:\\\\Users\\\\DeLL'"
      ]
     },
     "execution_count": 16,
     "metadata": {},
     "output_type": "execute_result"
    }
   ],
   "source": [
    "import numpy as np\n",
    "import pandas as pd\n",
    "import os\n",
    "os.getcwd()"
   ]
  },
  {
   "cell_type": "code",
   "execution_count": 21,
   "metadata": {},
   "outputs": [
    {
     "data": {
      "text/html": [
       "<div>\n",
       "<style scoped>\n",
       "    .dataframe tbody tr th:only-of-type {\n",
       "        vertical-align: middle;\n",
       "    }\n",
       "\n",
       "    .dataframe tbody tr th {\n",
       "        vertical-align: top;\n",
       "    }\n",
       "\n",
       "    .dataframe thead th {\n",
       "        text-align: right;\n",
       "    }\n",
       "</style>\n",
       "<table border=\"1\" class=\"dataframe\">\n",
       "  <thead>\n",
       "    <tr style=\"text-align: right;\">\n",
       "      <th></th>\n",
       "      <th>id</th>\n",
       "      <th>keyword</th>\n",
       "      <th>location</th>\n",
       "      <th>text</th>\n",
       "      <th>target</th>\n",
       "    </tr>\n",
       "  </thead>\n",
       "  <tbody>\n",
       "    <tr>\n",
       "      <th>0</th>\n",
       "      <td>1</td>\n",
       "      <td>NaN</td>\n",
       "      <td>NaN</td>\n",
       "      <td>Our Deeds are the Reason of this #earthquake M...</td>\n",
       "      <td>1</td>\n",
       "    </tr>\n",
       "    <tr>\n",
       "      <th>1</th>\n",
       "      <td>4</td>\n",
       "      <td>NaN</td>\n",
       "      <td>NaN</td>\n",
       "      <td>Forest fire near La Ronge Sask. Canada</td>\n",
       "      <td>1</td>\n",
       "    </tr>\n",
       "    <tr>\n",
       "      <th>2</th>\n",
       "      <td>5</td>\n",
       "      <td>NaN</td>\n",
       "      <td>NaN</td>\n",
       "      <td>All residents asked to 'shelter in place' are ...</td>\n",
       "      <td>1</td>\n",
       "    </tr>\n",
       "    <tr>\n",
       "      <th>3</th>\n",
       "      <td>6</td>\n",
       "      <td>NaN</td>\n",
       "      <td>NaN</td>\n",
       "      <td>13,000 people receive #wildfires evacuation or...</td>\n",
       "      <td>1</td>\n",
       "    </tr>\n",
       "    <tr>\n",
       "      <th>4</th>\n",
       "      <td>7</td>\n",
       "      <td>NaN</td>\n",
       "      <td>NaN</td>\n",
       "      <td>Just got sent this photo from Ruby #Alaska as ...</td>\n",
       "      <td>1</td>\n",
       "    </tr>\n",
       "  </tbody>\n",
       "</table>\n",
       "</div>"
      ],
      "text/plain": [
       "   id keyword location                                               text  \\\n",
       "0   1     NaN      NaN  Our Deeds are the Reason of this #earthquake M...   \n",
       "1   4     NaN      NaN             Forest fire near La Ronge Sask. Canada   \n",
       "2   5     NaN      NaN  All residents asked to 'shelter in place' are ...   \n",
       "3   6     NaN      NaN  13,000 people receive #wildfires evacuation or...   \n",
       "4   7     NaN      NaN  Just got sent this photo from Ruby #Alaska as ...   \n",
       "\n",
       "   target  \n",
       "0       1  \n",
       "1       1  \n",
       "2       1  \n",
       "3       1  \n",
       "4       1  "
      ]
     },
     "execution_count": 21,
     "metadata": {},
     "output_type": "execute_result"
    }
   ],
   "source": [
    "df_train=pd.read_csv(\"train.csv\")\n",
    "df_test=pd.read_csv(\"test.csv\")\n",
    "df_train.head()"
   ]
  },
  {
   "cell_type": "code",
   "execution_count": 22,
   "metadata": {},
   "outputs": [],
   "source": [
    "GLOVE_DIR = 'archive/glove.6B.300d.txt'"
   ]
  },
  {
   "cell_type": "code",
   "execution_count": 23,
   "metadata": {},
   "outputs": [],
   "source": [
    "from tensorflow.keras.preprocessing.text import Tokenizer\n",
    "from tensorflow.keras.preprocessing.sequence import pad_sequences\n",
    "\n",
    "# Data preparing\n",
    "\n",
    "train_data = list(df_train.text)\n",
    "train_labels = list(df_train.target)\n",
    "\n",
    "tokenizer = Tokenizer(num_words=10000) # Only 10000 most met words\n",
    "tokenizer.fit_on_texts(train_data)\n",
    "sequences = tokenizer.texts_to_sequences(train_data)\n",
    "\n",
    "train_data = pad_sequences(sequences, maxlen=100) # Only 100 words in one text\n",
    "train_labels = np.array(train_labels)\n"
   ]
  },
  {
   "cell_type": "code",
   "execution_count": 24,
   "metadata": {},
   "outputs": [],
   "source": [
    "embedding_index = {}\n",
    "\n",
    "with open(GLOVE_DIR,'r', encoding='utf-8') as file: # Preparing glove\n",
    "    for line in file:\n",
    "        values = line.split()\n",
    "        key = values[0]\n",
    "        value = values[1:]\n",
    "        embedding_index[key] = np.array(value, dtype=np.float64)\n",
    "        \n",
    "        \n",
    "embedding_matrix = np.zeros((10000, 300)) # 10000 - num_words, 100 - length of sequence\n",
    "for word, i in tokenizer.word_index.items():\n",
    "    if i < 10000:\n",
    "        embedding_vector = embedding_index.get(word)\n",
    "        if embedding_vector is not None:\n",
    "            embedding_matrix[i] = embedding_vector"
   ]
  },
  {
   "cell_type": "code",
   "execution_count": 37,
   "metadata": {},
   "outputs": [
    {
     "name": "stdout",
     "output_type": "stream",
     "text": [
      "Epoch 1/10\n",
      "191/191 [==============================] - 2s 10ms/step - loss: 0.2116 - mean_absolute_error: 0.4431 - categorical_accuracy: 1.0000 - accuracy: 0.0000e+00 - precision: 0.6791 - recall: 0.4832 - true_positives: 1238.0000 - true_negatives: 2943.0000 - false_positives: 585.0000 - false_negatives: 1324.0000 - val_loss: 0.1846 - val_mean_absolute_error: 0.4029 - val_categorical_accuracy: 1.0000 - val_accuracy: 0.0000e+00 - val_precision: 0.7858 - val_recall: 0.6573 - val_true_positives: 466.0000 - val_true_negatives: 687.0000 - val_false_positives: 127.0000 - val_false_negatives: 243.0000\n",
      "Epoch 2/10\n",
      "191/191 [==============================] - 1s 7ms/step - loss: 0.1733 - mean_absolute_error: 0.3824 - categorical_accuracy: 1.0000 - accuracy: 0.0000e+00 - precision: 0.7885 - recall: 0.6358 - true_positives: 1629.0000 - true_negatives: 3091.0000 - false_positives: 437.0000 - false_negatives: 933.0000 - val_loss: 0.1689 - val_mean_absolute_error: 0.3667 - val_categorical_accuracy: 1.0000 - val_accuracy: 0.0000e+00 - val_precision: 0.8083 - val_recall: 0.6897 - val_true_positives: 489.0000 - val_true_negatives: 698.0000 - val_false_positives: 116.0000 - val_false_negatives: 220.0000\n",
      "Epoch 3/10\n",
      "191/191 [==============================] - 1s 7ms/step - loss: 0.1573 - mean_absolute_error: 0.3502 - categorical_accuracy: 1.0000 - accuracy: 0.0000e+00 - precision: 0.8070 - recall: 0.6706 - true_positives: 1718.0000 - true_negatives: 3117.0000 - false_positives: 411.0000 - false_negatives: 844.0000 - val_loss: 0.1644 - val_mean_absolute_error: 0.3502 - val_categorical_accuracy: 1.0000 - val_accuracy: 0.0000e+00 - val_precision: 0.8569 - val_recall: 0.6248 - val_true_positives: 443.0000 - val_true_negatives: 740.0000 - val_false_positives: 74.0000 - val_false_negatives: 266.0000\n",
      "Epoch 4/10\n",
      "191/191 [==============================] - 1s 7ms/step - loss: 0.1470 - mean_absolute_error: 0.3303 - categorical_accuracy: 1.0000 - accuracy: 0.0000e+00 - precision: 0.8225 - recall: 0.6874 - true_positives: 1761.0000 - true_negatives: 3148.0000 - false_positives: 380.0000 - false_negatives: 801.0000 - val_loss: 0.1646 - val_mean_absolute_error: 0.3416 - val_categorical_accuracy: 1.0000 - val_accuracy: 0.0000e+00 - val_precision: 0.8718 - val_recall: 0.5853 - val_true_positives: 415.0000 - val_true_negatives: 753.0000 - val_false_positives: 61.0000 - val_false_negatives: 294.0000\n",
      "Epoch 5/10\n",
      "191/191 [==============================] - 1s 7ms/step - loss: 0.1395 - mean_absolute_error: 0.3164 - categorical_accuracy: 1.0000 - accuracy: 0.0000e+00 - precision: 0.8376 - recall: 0.7006 - true_positives: 1795.0000 - true_negatives: 3180.0000 - false_positives: 348.0000 - false_negatives: 767.0000 - val_loss: 0.1584 - val_mean_absolute_error: 0.3311 - val_categorical_accuracy: 1.0000 - val_accuracy: 0.0000e+00 - val_precision: 0.8520 - val_recall: 0.6333 - val_true_positives: 449.0000 - val_true_negatives: 736.0000 - val_false_positives: 78.0000 - val_false_negatives: 260.0000\n",
      "Epoch 6/10\n",
      "191/191 [==============================] - 1s 7ms/step - loss: 0.1335 - mean_absolute_error: 0.3052 - categorical_accuracy: 1.0000 - accuracy: 0.0000e+00 - precision: 0.8446 - recall: 0.7213 - true_positives: 1848.0000 - true_negatives: 3188.0000 - false_positives: 340.0000 - false_negatives: 714.0000 - val_loss: 0.1549 - val_mean_absolute_error: 0.3261 - val_categorical_accuracy: 1.0000 - val_accuracy: 0.0000e+00 - val_precision: 0.8412 - val_recall: 0.6573 - val_true_positives: 466.0000 - val_true_negatives: 726.0000 - val_false_positives: 88.0000 - val_false_negatives: 243.0000\n",
      "Epoch 7/10\n",
      "191/191 [==============================] - 1s 7ms/step - loss: 0.1278 - mean_absolute_error: 0.2954 - categorical_accuracy: 1.0000 - accuracy: 0.0000e+00 - precision: 0.8554 - recall: 0.7322 - true_positives: 1876.0000 - true_negatives: 3211.0000 - false_positives: 317.0000 - false_negatives: 686.0000 - val_loss: 0.1579 - val_mean_absolute_error: 0.3198 - val_categorical_accuracy: 1.0000 - val_accuracy: 0.0000e+00 - val_precision: 0.8700 - val_recall: 0.6135 - val_true_positives: 435.0000 - val_true_negatives: 749.0000 - val_false_positives: 65.0000 - val_false_negatives: 274.0000\n",
      "Epoch 8/10\n",
      "191/191 [==============================] - 1s 7ms/step - loss: 0.1230 - mean_absolute_error: 0.2867 - categorical_accuracy: 1.0000 - accuracy: 0.0000e+00 - precision: 0.8685 - recall: 0.7451 - true_positives: 1909.0000 - true_negatives: 3239.0000 - false_positives: 289.0000 - false_negatives: 653.0000 - val_loss: 0.1510 - val_mean_absolute_error: 0.3148 - val_categorical_accuracy: 1.0000 - val_accuracy: 0.0000e+00 - val_precision: 0.8283 - val_recall: 0.7010 - val_true_positives: 497.0000 - val_true_negatives: 711.0000 - val_false_positives: 103.0000 - val_false_negatives: 212.0000\n",
      "Epoch 9/10\n",
      "191/191 [==============================] - 1s 7ms/step - loss: 0.1184 - mean_absolute_error: 0.2781 - categorical_accuracy: 1.0000 - accuracy: 0.0000e+00 - precision: 0.8760 - recall: 0.7611 - true_positives: 1950.0000 - true_negatives: 3252.0000 - false_positives: 276.0000 - false_negatives: 612.0000 - val_loss: 0.1503 - val_mean_absolute_error: 0.3134 - val_categorical_accuracy: 1.0000 - val_accuracy: 0.0000e+00 - val_precision: 0.8216 - val_recall: 0.7080 - val_true_positives: 502.0000 - val_true_negatives: 705.0000 - val_false_positives: 109.0000 - val_false_negatives: 207.0000\n",
      "Epoch 10/10\n",
      "191/191 [==============================] - 2s 8ms/step - loss: 0.1149 - mean_absolute_error: 0.2722 - categorical_accuracy: 1.0000 - accuracy: 0.0000e+00 - precision: 0.8834 - recall: 0.7685 - true_positives: 1969.0000 - true_negatives: 3268.0000 - false_positives: 260.0000 - false_negatives: 593.0000 - val_loss: 0.1503 - val_mean_absolute_error: 0.3137 - val_categorical_accuracy: 1.0000 - val_accuracy: 0.0000e+00 - val_precision: 0.8049 - val_recall: 0.7391 - val_true_positives: 524.0000 - val_true_negatives: 687.0000 - val_false_positives: 127.0000 - val_false_negatives: 185.0000\n"
     ]
    }
   ],
   "source": [
    "import tensorflow as tf\n",
    "from tensorflow.keras import losses, optimizers, metrics\n",
    "from tensorflow.keras.layers import Dense, Embedding, Flatten\n",
    "\n",
    "model = tf.keras.models.Sequential([\n",
    "    Embedding(10000, 300, input_length=100),\n",
    "    Flatten(),\n",
    "    Dense(32, activation=tf.nn.relu),\n",
    "    Dense(1, activation=tf.nn.sigmoid),\n",
    "])\n",
    "\n",
    "model.layers[0].set_weights([embedding_matrix]) # Add glove to our model\n",
    "model.layers[0].trainable = False # Freeze embedding layer\n",
    "\n",
    "model.compile(\n",
    "    loss = losses.binary_crossentropy,\n",
    "    optimizer = optimizers.RMSprop(lr=0.001),\n",
    "    metrics = ['accuracy'],\n",
    ")\n",
    "\n",
    "model.compile(\n",
    "    loss='mean_squared_error',\n",
    "    optimizer='sgd',\n",
    "    metrics=[metrics.mae,metrics.categorical_accuracy, tf.keras.metrics.Accuracy(),\n",
    "             tf.keras.metrics.Precision(),tf.keras.metrics.Recall(),\n",
    "             tf.keras.metrics.TruePositives(),tf.keras.metrics.TrueNegatives(),\n",
    "             tf.keras.metrics.FalsePositives(),tf.keras.metrics.FalseNegatives()]\n",
    ")\n",
    "\n",
    "\n",
    "history = model.fit(\n",
    "    train_data, train_labels,validation_split=0.2,\n",
    "    validation_data = [validation_data, validation_labels],\n",
    "    batch_size = 32, \n",
    "    epochs = 10,\n",
    ")"
   ]
  },
  {
   "cell_type": "code",
   "execution_count": 38,
   "metadata": {},
   "outputs": [
    {
     "name": "stdout",
     "output_type": "stream",
     "text": [
      "Model: \"sequential_7\"\n",
      "_________________________________________________________________\n",
      "Layer (type)                 Output Shape              Param #   \n",
      "=================================================================\n",
      "embedding_7 (Embedding)      (None, 100, 300)          3000000   \n",
      "_________________________________________________________________\n",
      "flatten_7 (Flatten)          (None, 30000)             0         \n",
      "_________________________________________________________________\n",
      "dense_14 (Dense)             (None, 32)                960032    \n",
      "_________________________________________________________________\n",
      "dense_15 (Dense)             (None, 1)                 33        \n",
      "=================================================================\n",
      "Total params: 3,960,065\n",
      "Trainable params: 960,065\n",
      "Non-trainable params: 3,000,000\n",
      "_________________________________________________________________\n"
     ]
    }
   ],
   "source": [
    "model.summary()"
   ]
  },
  {
   "cell_type": "code",
   "execution_count": 30,
   "metadata": {},
   "outputs": [
    {
     "data": {
      "image/png": "[encoded data removed]",
      "text/plain": [
       "<Figure size 432x288 with 1 Axes>"
      ]
     },
     "metadata": {
      "needs_background": "light"
     },
     "output_type": "display_data"
    }
   ],
   "source": [
    "import matplotlib.pyplot as plt\n",
    "\n",
    "\n",
    "plt.plot(history.history['accuracy'], 'r-', label='Train accuracy')\n",
    "plt.plot(history.history['val_accuracy'], 'b-', label='Validation accuracy')\n",
    "plt.legend()\n",
    "plt.grid()\n",
    "plt.show()\n"
   ]
  },
  {
   "cell_type": "code",
   "execution_count": 40,
   "metadata": {},
   "outputs": [
    {
     "data": {
      "image/png": "[encoded data removed]",
      "text/plain": [
       "<Figure size 432x288 with 1 Axes>"
      ]
     },
     "metadata": {
      "needs_background": "light"
     },
     "output_type": "display_data"
    }
   ],
   "source": [
    "plt.plot(history.history['precision'], 'r-', label='Train Precision')\n",
    "plt.plot(history.history['val_precision'], 'b-', label='Validation Precision')\n",
    "plt.legend()\n",
    "plt.grid()\n",
    "plt.show()"
   ]
  },
  {
   "cell_type": "code",
   "execution_count": 44,
   "metadata": {},
   "outputs": [
    {
     "name": "stdout",
     "output_type": "stream",
     "text": [
      "confusion matrix for training set:\n",
      "[ 1769.3 , 364.3 ]\n",
      "[ 792.7 , 3163.7 ]\n"
     ]
    }
   ],
   "source": [
    "print(\"confusion matrix for training set:\")\n",
    "\n",
    "\n",
    "print(\"[\",sum(history.history['true_positives'])/len(history.history['true_positives']),\",\", sum(history.history['false_positives'])/len(history.history['false_positives']),\"]\")\n",
    "\n",
    "print(\"[\",sum(history.history['false_negatives'])/len(history.history['false_negatives']),\",\",sum(history.history['true_negatives'])/len(history.history['true_negatives']),\"]\")"
   ]
  },
  {
   "cell_type": "code",
   "execution_count": 45,
   "metadata": {},
   "outputs": [
    {
     "name": "stdout",
     "output_type": "stream",
     "text": [
      "confusion matrix for validation set:\n",
      "[ 468.6 , 94.8 ]\n",
      "[ 240.4 , 719.2 ]\n"
     ]
    }
   ],
   "source": [
    "print(\"confusion matrix for validation set:\")\n",
    "\n",
    "\n",
    "print(\"[\",sum(history.history['val_true_positives'])/len(history.history['val_true_positives']),\",\", sum(history.history['val_false_positives'])/len(history.history['val_false_positives']),\"]\")\n",
    "\n",
    "print(\"[\",sum(history.history['val_false_negatives'])/len(history.history['val_false_negatives']),\",\",sum(history.history['val_true_negatives'])/len(history.history['val_true_negatives']),\"]\")"
   ]
  },
  {
   "cell_type": "code",
   "execution_count": null,
   "metadata": {},
   "outputs": [],
   "source": []
  }
 ],
 "metadata": {
  "kernelspec": {
   "display_name": "Python 3",
   "language": "python",
   "name": "python3"
  },
  "language_info": {
   "codemirror_mode": {
    "name": "ipython",
    "version": 3
   },
   "file_extension": ".py",
   "mimetype": "text/x-python",
   "name": "python",
   "nbconvert_exporter": "python",
   "pygments_lexer": "ipython3",
   "version": "3.8.8"
  }
 },
 "nbformat": 4,
 "nbformat_minor": 4
}
